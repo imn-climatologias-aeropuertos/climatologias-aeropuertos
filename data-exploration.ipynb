{
 "cells": [
  {
   "cell_type": "code",
   "execution_count": 1,
   "metadata": {},
   "outputs": [
    {
     "name": "stderr",
     "output_type": "stream",
     "text": [
      "C:\\Users\\diego\\AppData\\Local\\Temp\\ipykernel_25260\\4080736814.py:1: DeprecationWarning: \n",
      "Pyarrow will become a required dependency of pandas in the next major release of pandas (pandas 3.0),\n",
      "(to allow more performant data types, such as the Arrow string type, and better interoperability with other libraries)\n",
      "but was not found to be installed on your system.\n",
      "If this would cause problems for you,\n",
      "please provide us feedback at https://github.com/pandas-dev/pandas/issues/54466\n",
      "        \n",
      "  import pandas as pd\n"
     ]
    }
   ],
   "source": [
    "import pandas as pd"
   ]
  },
  {
   "cell_type": "code",
   "execution_count": 2,
   "metadata": {},
   "outputs": [
    {
     "name": "stderr",
     "output_type": "stream",
     "text": [
      "C:\\Users\\diego\\AppData\\Local\\Temp\\ipykernel_22564\\2296388491.py:2: DtypeWarning: Columns (23,24) have mixed types. Specify dtype option on import or set low_memory=False.\n",
      "  data = pd.read_csv(f\"data/{station}/metars.csv\")\n"
     ]
    },
    {
     "data": {
      "text/html": [
       "<div>\n",
       "<style scoped>\n",
       "    .dataframe tbody tr th:only-of-type {\n",
       "        vertical-align: middle;\n",
       "    }\n",
       "\n",
       "    .dataframe tbody tr th {\n",
       "        vertical-align: top;\n",
       "    }\n",
       "\n",
       "    .dataframe thead th {\n",
       "        text-align: right;\n",
       "    }\n",
       "</style>\n",
       "<table border=\"1\" class=\"dataframe\">\n",
       "  <thead>\n",
       "    <tr style=\"text-align: right;\">\n",
       "      <th></th>\n",
       "      <th>Year</th>\n",
       "      <th>Month</th>\n",
       "      <th>Day</th>\n",
       "      <th>Hour</th>\n",
       "      <th>Minute</th>\n",
       "      <th>Station</th>\n",
       "      <th>Wind_direction</th>\n",
       "      <th>Wind_speed</th>\n",
       "      <th>Wind_gust</th>\n",
       "      <th>Visibility</th>\n",
       "      <th>...</th>\n",
       "      <th>Sky_layer2_cloud</th>\n",
       "      <th>Sky_layer3_cover</th>\n",
       "      <th>Sky_layer3_height</th>\n",
       "      <th>Sky_layer3_cloud</th>\n",
       "      <th>Sky_layer4_cover</th>\n",
       "      <th>Sky_layer4_height</th>\n",
       "      <th>Sky_layer4_cloud</th>\n",
       "      <th>Temperature</th>\n",
       "      <th>Dewpoint</th>\n",
       "      <th>Pressure</th>\n",
       "    </tr>\n",
       "  </thead>\n",
       "  <tbody>\n",
       "    <tr>\n",
       "      <th>0</th>\n",
       "      <td>2005</td>\n",
       "      <td>1</td>\n",
       "      <td>1</td>\n",
       "      <td>1</td>\n",
       "      <td>0</td>\n",
       "      <td>MRLB</td>\n",
       "      <td>80.0</td>\n",
       "      <td>15.0</td>\n",
       "      <td>NaN</td>\n",
       "      <td>10000.0</td>\n",
       "      <td>...</td>\n",
       "      <td>NaN</td>\n",
       "      <td>NaN</td>\n",
       "      <td>NaN</td>\n",
       "      <td>NaN</td>\n",
       "      <td>NaN</td>\n",
       "      <td>NaN</td>\n",
       "      <td>NaN</td>\n",
       "      <td>27.0</td>\n",
       "      <td>19.0</td>\n",
       "      <td>29.84</td>\n",
       "    </tr>\n",
       "    <tr>\n",
       "      <th>1</th>\n",
       "      <td>2005</td>\n",
       "      <td>1</td>\n",
       "      <td>1</td>\n",
       "      <td>13</td>\n",
       "      <td>0</td>\n",
       "      <td>MRLB</td>\n",
       "      <td>30.0</td>\n",
       "      <td>4.0</td>\n",
       "      <td>NaN</td>\n",
       "      <td>10000.0</td>\n",
       "      <td>...</td>\n",
       "      <td>NaN</td>\n",
       "      <td>NaN</td>\n",
       "      <td>NaN</td>\n",
       "      <td>NaN</td>\n",
       "      <td>NaN</td>\n",
       "      <td>NaN</td>\n",
       "      <td>NaN</td>\n",
       "      <td>23.0</td>\n",
       "      <td>20.0</td>\n",
       "      <td>29.90</td>\n",
       "    </tr>\n",
       "    <tr>\n",
       "      <th>2</th>\n",
       "      <td>2005</td>\n",
       "      <td>1</td>\n",
       "      <td>1</td>\n",
       "      <td>14</td>\n",
       "      <td>0</td>\n",
       "      <td>MRLB</td>\n",
       "      <td>50.0</td>\n",
       "      <td>4.0</td>\n",
       "      <td>NaN</td>\n",
       "      <td>10000.0</td>\n",
       "      <td>...</td>\n",
       "      <td>NaN</td>\n",
       "      <td>NaN</td>\n",
       "      <td>NaN</td>\n",
       "      <td>NaN</td>\n",
       "      <td>NaN</td>\n",
       "      <td>NaN</td>\n",
       "      <td>NaN</td>\n",
       "      <td>27.0</td>\n",
       "      <td>20.0</td>\n",
       "      <td>29.92</td>\n",
       "    </tr>\n",
       "    <tr>\n",
       "      <th>3</th>\n",
       "      <td>2005</td>\n",
       "      <td>1</td>\n",
       "      <td>1</td>\n",
       "      <td>15</td>\n",
       "      <td>0</td>\n",
       "      <td>MRLB</td>\n",
       "      <td>60.0</td>\n",
       "      <td>16.0</td>\n",
       "      <td>NaN</td>\n",
       "      <td>10000.0</td>\n",
       "      <td>...</td>\n",
       "      <td>NaN</td>\n",
       "      <td>NaN</td>\n",
       "      <td>NaN</td>\n",
       "      <td>NaN</td>\n",
       "      <td>NaN</td>\n",
       "      <td>NaN</td>\n",
       "      <td>NaN</td>\n",
       "      <td>30.0</td>\n",
       "      <td>20.0</td>\n",
       "      <td>29.94</td>\n",
       "    </tr>\n",
       "    <tr>\n",
       "      <th>4</th>\n",
       "      <td>2005</td>\n",
       "      <td>1</td>\n",
       "      <td>1</td>\n",
       "      <td>16</td>\n",
       "      <td>0</td>\n",
       "      <td>MRLB</td>\n",
       "      <td>70.0</td>\n",
       "      <td>14.0</td>\n",
       "      <td>NaN</td>\n",
       "      <td>10000.0</td>\n",
       "      <td>...</td>\n",
       "      <td>NaN</td>\n",
       "      <td>NaN</td>\n",
       "      <td>NaN</td>\n",
       "      <td>NaN</td>\n",
       "      <td>NaN</td>\n",
       "      <td>NaN</td>\n",
       "      <td>NaN</td>\n",
       "      <td>31.0</td>\n",
       "      <td>20.0</td>\n",
       "      <td>29.93</td>\n",
       "    </tr>\n",
       "  </tbody>\n",
       "</table>\n",
       "<p>5 rows × 30 columns</p>\n",
       "</div>"
      ],
      "text/plain": [
       "   Year  Month  Day  Hour  Minute Station  Wind_direction  Wind_speed  \\\n",
       "0  2005      1    1     1       0    MRLB            80.0        15.0   \n",
       "1  2005      1    1    13       0    MRLB            30.0         4.0   \n",
       "2  2005      1    1    14       0    MRLB            50.0         4.0   \n",
       "3  2005      1    1    15       0    MRLB            60.0        16.0   \n",
       "4  2005      1    1    16       0    MRLB            70.0        14.0   \n",
       "\n",
       "   Wind_gust  Visibility  ...  Sky_layer2_cloud Sky_layer3_cover  \\\n",
       "0        NaN     10000.0  ...               NaN              NaN   \n",
       "1        NaN     10000.0  ...               NaN              NaN   \n",
       "2        NaN     10000.0  ...               NaN              NaN   \n",
       "3        NaN     10000.0  ...               NaN              NaN   \n",
       "4        NaN     10000.0  ...               NaN              NaN   \n",
       "\n",
       "  Sky_layer3_height Sky_layer3_cloud Sky_layer4_cover Sky_layer4_height  \\\n",
       "0               NaN              NaN              NaN               NaN   \n",
       "1               NaN              NaN              NaN               NaN   \n",
       "2               NaN              NaN              NaN               NaN   \n",
       "3               NaN              NaN              NaN               NaN   \n",
       "4               NaN              NaN              NaN               NaN   \n",
       "\n",
       "   Sky_layer4_cloud Temperature Dewpoint  Pressure  \n",
       "0               NaN        27.0     19.0     29.84  \n",
       "1               NaN        23.0     20.0     29.90  \n",
       "2               NaN        27.0     20.0     29.92  \n",
       "3               NaN        30.0     20.0     29.94  \n",
       "4               NaN        31.0     20.0     29.93  \n",
       "\n",
       "[5 rows x 30 columns]"
      ]
     },
     "execution_count": 2,
     "metadata": {},
     "output_type": "execute_result"
    }
   ],
   "source": [
    "station = \"mrlb\"\n",
    "data = pd.read_csv(f\"data/{station}/metars.csv\")\n",
    "data.head()"
   ]
  },
  {
   "cell_type": "code",
   "execution_count": 3,
   "metadata": {},
   "outputs": [
    {
     "data": {
      "text/plain": [
       "30.11"
      ]
     },
     "execution_count": 3,
     "metadata": {},
     "output_type": "execute_result"
    }
   ],
   "source": [
    "data[\"Pressure\"].max()"
   ]
  },
  {
   "cell_type": "code",
   "execution_count": 4,
   "metadata": {},
   "outputs": [
    {
     "data": {
      "text/plain": [
       "29.6"
      ]
     },
     "execution_count": 4,
     "metadata": {},
     "output_type": "execute_result"
    }
   ],
   "source": [
    "data[\"Pressure\"].min()"
   ]
  },
  {
   "cell_type": "code",
   "execution_count": 5,
   "metadata": {},
   "outputs": [
    {
     "data": {
      "text/html": [
       "<div>\n",
       "<style scoped>\n",
       "    .dataframe tbody tr th:only-of-type {\n",
       "        vertical-align: middle;\n",
       "    }\n",
       "\n",
       "    .dataframe tbody tr th {\n",
       "        vertical-align: top;\n",
       "    }\n",
       "\n",
       "    .dataframe thead th {\n",
       "        text-align: right;\n",
       "    }\n",
       "</style>\n",
       "<table border=\"1\" class=\"dataframe\">\n",
       "  <thead>\n",
       "    <tr style=\"text-align: right;\">\n",
       "      <th></th>\n",
       "      <th>Year</th>\n",
       "      <th>Month</th>\n",
       "      <th>Day</th>\n",
       "      <th>Hour</th>\n",
       "      <th>Minute</th>\n",
       "      <th>Station</th>\n",
       "      <th>Wind_direction</th>\n",
       "      <th>Wind_speed</th>\n",
       "      <th>Wind_gust</th>\n",
       "      <th>Visibility</th>\n",
       "      <th>...</th>\n",
       "      <th>Sky_layer2_cloud</th>\n",
       "      <th>Sky_layer3_cover</th>\n",
       "      <th>Sky_layer3_height</th>\n",
       "      <th>Sky_layer3_cloud</th>\n",
       "      <th>Sky_layer4_cover</th>\n",
       "      <th>Sky_layer4_height</th>\n",
       "      <th>Sky_layer4_cloud</th>\n",
       "      <th>Temperature</th>\n",
       "      <th>Dewpoint</th>\n",
       "      <th>Pressure</th>\n",
       "    </tr>\n",
       "  </thead>\n",
       "  <tbody>\n",
       "  </tbody>\n",
       "</table>\n",
       "<p>0 rows × 30 columns</p>\n",
       "</div>"
      ],
      "text/plain": [
       "Empty DataFrame\n",
       "Columns: [Year, Month, Day, Hour, Minute, Station, Wind_direction, Wind_speed, Wind_gust, Visibility, Cavok, Weather_intensity, Weather_description, Weather_precipitation, Weather_obscuration, Sky_layer1_cover, Sky_layer1_height, Sky_layer1_cloud, Sky_layer2_cover, Sky_layer2_height, Sky_layer2_cloud, Sky_layer3_cover, Sky_layer3_height, Sky_layer3_cloud, Sky_layer4_cover, Sky_layer4_height, Sky_layer4_cloud, Temperature, Dewpoint, Pressure]\n",
       "Index: []\n",
       "\n",
       "[0 rows x 30 columns]"
      ]
     },
     "execution_count": 5,
     "metadata": {},
     "output_type": "execute_result"
    }
   ],
   "source": [
    "p_anomalies = data.query(\"Pressure < 29.60 or Pressure > 30.20\")\n",
    "p_anomalies.head()"
   ]
  },
  {
   "cell_type": "code",
   "execution_count": 6,
   "metadata": {},
   "outputs": [
    {
     "name": "stderr",
     "output_type": "stream",
     "text": [
      "C:\\Users\\diego\\AppData\\Local\\Temp\\ipykernel_22564\\3576225516.py:2: DtypeWarning: Columns (23,24) have mixed types. Specify dtype option on import or set low_memory=False.\n",
      "  data = pd.read_csv(f\"data/{station}/metars.csv\")\n"
     ]
    }
   ],
   "source": [
    "station = \"mrlb\"\n",
    "data = pd.read_csv(f\"data/{station}/metars.csv\")\n",
    "\n",
    "data_ts = data.query(\"Weather_description == 'TS'\")"
   ]
  },
  {
   "cell_type": "code",
   "execution_count": 2,
   "metadata": {},
   "outputs": [],
   "source": [
    "from clima.graphics.bar_plots_selective import bar_plot_selective\n",
    "\n",
    "def weather_col_name(var: str):\n",
    "    col_name = \"Weather_\"\n",
    "    var_name = \"Tormentas\"\n",
    "    if var in \"SHTS\":\n",
    "        col_name += \"description\"\n",
    "    if var in \"RADZ\":\n",
    "        col_name += \"precipitation\"\n",
    "    if var in \"BRFG\":\n",
    "        col_name += \"obscuration\"\n",
    "    if var == \"SH\":\n",
    "        var_name = \"Chubascos\"\n",
    "    if var == \"RA\":\n",
    "        var_name = \"Lluvia\"\n",
    "    if var == \"DZ\":\n",
    "        var_name = \"Llovizna\"\n",
    "    if var == \"BR\":\n",
    "        var_name == \"Neblina\"\n",
    "    if var == \"FG\":\n",
    "        var_name = \"Niebla\"\n",
    "    return col_name, var_name"
   ]
  },
  {
   "cell_type": "code",
   "execution_count": 5,
   "metadata": {},
   "outputs": [
    {
     "name": "stderr",
     "output_type": "stream",
     "text": [
      "C:\\Users\\diego\\AppData\\Local\\Temp\\ipykernel_25260\\2676364894.py:2: DtypeWarning: Columns (23,24) have mixed types. Specify dtype option on import or set low_memory=False.\n",
      "  data = pd.read_csv(f\"data/{station}/metars.csv\")\n",
      "c:\\Users\\diego\\development\\python\\climatologias-aeropuertos\\clima\\graphics\\bar_plots_selective.py:26: SettingWithCopyWarning: \n",
      "A value is trying to be set on a copy of a slice from a DataFrame.\n",
      "Try using .loc[row_indexer,col_indexer] = value instead\n",
      "\n",
      "See the caveats in the documentation: https://pandas.pydata.org/pandas-docs/stable/user_guide/indexing.html#returning-a-view-versus-a-copy\n",
      "  df[\"Hour1_24\"] = df[\"Hour\"].replace(0, 24)\n"
     ]
    },
    {
     "name": "stdout",
     "output_type": "stream",
     "text": [
      "Weather_description Chubascos\n",
      "SH count for month 1 -> 2\n",
      "SH count for month 2 -> 0\n",
      "SH count for month 3 -> 8\n",
      "SH count for month 4 -> 60\n",
      "SH count for month 5 -> 294\n",
      "SH count for month 6 -> 354\n",
      "SH count for month 7 -> 193\n",
      "SH count for month 8 -> 269\n",
      "SH count for month 9 -> 418\n",
      "SH count for month 10 -> 484\n",
      "SH count for month 11 -> 241\n",
      "SH count for month 12 -> 44\n",
      "Relevant months: [5, 6, 7, 8, 9, 10, 11]\n"
     ]
    },
    {
     "name": "stderr",
     "output_type": "stream",
     "text": [
      "2025/02/05 01:26:41 PM: INFO [category.py:223] Using categorical units to plot a list of strings that are all parsable as floats or dates. If these strings should be plotted as numbers, cast to the appropriate data type before plotting.\n",
      "2025/02/05 01:26:41 PM: INFO [category.py:223] Using categorical units to plot a list of strings that are all parsable as floats or dates. If these strings should be plotted as numbers, cast to the appropriate data type before plotting.\n"
     ]
    },
    {
     "name": "stdout",
     "output_type": "stream",
     "text": [
      "[0.         0.         0.         0.         0.00714286 0.00714286\n",
      " 0.02142857 0.06428571 0.02857143 0.04285714 0.02857143 0.05\n",
      " 0.04285714 0.00714286 0.01428571 0.         0.         0.\n",
      " 0.        ]\n"
     ]
    },
    {
     "name": "stderr",
     "output_type": "stream",
     "text": [
      "c:\\Users\\diego\\development\\python\\climatologias-aeropuertos\\clima\\graphics\\bar_plots_selective.py:77: UserWarning: set_ticklabels() should only be used with a fixed number of ticks, i.e. after set_ticks() or using a FixedLocator.\n",
      "  ax.set_xticklabels(local_time_list(hours))\n"
     ]
    },
    {
     "data": {
      "image/png": "[encoded data removed]",
      "text/plain": [
       "<Figure size 1000x600 with 1 Axes>"
      ]
     },
     "metadata": {},
     "output_type": "display_data"
    }
   ],
   "source": [
    "station = \"mrlb\"\n",
    "data = pd.read_csv(f\"data/{station}/metars.csv\")\n",
    "weather_var = \"SH\"\n",
    "weather_col, weather_name = weather_col_name(weather_var)\n",
    "print(weather_col, weather_name)\n",
    "\n",
    "weather_df = data.query(f\"{weather_col} == '{weather_var}'\")\n",
    "\n",
    "if weather_var == \"RA\":\n",
    "    weather_df = weather_df.query(\n",
    "        'Weather_description != \"SH\" and Weather_description != \"TS\"'\n",
    "    )\n",
    "\n",
    "months = [m for m in range(1, 13)]\n",
    "relevant_months = []\n",
    "\n",
    "for month in months:\n",
    "    month_df = weather_df.query(f\"Month == {month}\")\n",
    "    phenomena_count = month_df[weather_col].count()\n",
    "    if phenomena_count >= 100:\n",
    "        relevant_months.append(month)\n",
    "    print(f\"{weather_var} count for month {month} -> {phenomena_count}\")\n",
    "\n",
    "print(f\"Relevant months: {relevant_months}\")\n",
    "\n",
    "bar_plot_selective(data, station, weather_col, relevant_months, weather=weather_var, bp_label=weather_name)"
   ]
  },
  {
   "cell_type": "code",
   "execution_count": null,
   "metadata": {},
   "outputs": [],
   "source": []
  }
 ],
 "metadata": {
  "kernelspec": {
   "display_name": "climatologias-aeropuertos-o7bipw02",
   "language": "python",
   "name": "python3"
  },
  "language_info": {
   "codemirror_mode": {
    "name": "ipython",
    "version": 3
   },
   "file_extension": ".py",
   "mimetype": "text/x-python",
   "name": "python",
   "nbconvert_exporter": "python",
   "pygments_lexer": "ipython3",
   "version": "3.9.13"
  }
 },
 "nbformat": 4,
 "nbformat_minor": 2
}
