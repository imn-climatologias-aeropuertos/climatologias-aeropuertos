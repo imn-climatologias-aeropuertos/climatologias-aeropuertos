{
 "cells": [
  {
   "cell_type": "code",
   "execution_count": null,
   "metadata": {},
   "outputs": [],
   "source": [
    "import numpy as np\n",
    "import matplotlib.pyplot as plt\n",
    "import pandas as pd\n",
    "import seaborn as sns"
   ]
  },
  {
   "cell_type": "code",
   "execution_count": null,
   "metadata": {},
   "outputs": [],
   "source": [
    "data = pd.read_csv(\"data/mroc/metars.csv\", usecols=[\"Year\", \"Month\", \"Day\", \"Hour\", \"Cavok\"])\n",
    "data.head()"
   ]
  },
  {
   "cell_type": "code",
   "execution_count": null,
   "metadata": {},
   "outputs": [],
   "source": [
    "a = np.zeros(12)\n",
    "means = np.zeros(12)\n",
    "for i in range(len(a)):\n",
    "    j = i + 1\n",
    "    df = data.query(f\"Month == {j}\")\n",
    "    means[i] = df[\"Pressure\"].mean()\n",
    "means"
   ]
  },
  {
   "cell_type": "code",
   "execution_count": null,
   "metadata": {},
   "outputs": [],
   "source": [
    "sns.set_theme()\n",
    "fig, ax = plt.subplots(figsize=(10, 6))\n",
    "im = sns.lineplot(x=range(12), y=means, ax=ax)\n",
    "im.set_xticks(list(range(12)))\n",
    "im.set_xticklabels([\"ENE\", \"FEB\", \"MAR\", \"ABR\", \"MAY\", \"JUN\", \"JUL\", \"AGO\", \"SET\", \"OCT\", \"NOV\", \"DIC\"])\n",
    "im.set_ylabel(\"Temperatura de rocío (°)\")"
   ]
  },
  {
   "cell_type": "code",
   "execution_count": null,
   "metadata": {},
   "outputs": [],
   "source": [
    "list(map(int, arr.tolist()))"
   ]
  },
  {
   "cell_type": "code",
   "execution_count": null,
   "metadata": {},
   "outputs": [],
   "source": [
    "data[\"Year\"].unique()"
   ]
  },
  {
   "cell_type": "code",
   "execution_count": null,
   "metadata": {},
   "outputs": [],
   "source": [
    "years = data[\"Year\"].unique()\n",
    "months = np.arange(1, 13)\n",
    "month_means = np.arange(12)\n",
    "for m in months:\n",
    "    m_sum = 0\n",
    "\n",
    "    for y in years:\n",
    "        m_df = data.query(f\"Year == {y} and Month == {m}\")\n",
    "\n",
    "        for d in range(28):\n",
    "            d_df = m_df.query(f\"Day == {d}\")\n",
    "            day_sum = d_df[\"Cavok\"].sum()\n",
    "\n",
    "            if day_sum > 12:\n",
    "                m_sum += 1\n",
    "            \n",
    "    month_means[m - 1] = m_sum / len(years)\n",
    "frecs = 100 * month_means / 28\n",
    "print(month_means, frecs)"
   ]
  },
  {
   "cell_type": "code",
   "execution_count": null,
   "metadata": {},
   "outputs": [],
   "source": [
    "sns.set()\n",
    "fig, ax = plt.subplots(figsize=(10, 6))\n",
    "im = sns.barplot(x=months, y=month_means, color=\"royalblue\")\n",
    "im.set_xticklabels([\"ENE\", \"FEB\", \"MAR\", \"ABR\", \"MAY\", \"JUN\", \"JUL\", \"AGO\", \"SET\", \"OCT\", \"NOV\", \"DIC\"])"
   ]
  },
  {
   "cell_type": "code",
   "execution_count": null,
   "metadata": {},
   "outputs": [],
   "source": [
    "arr = np.array([[\"SH\", np.nan, \"TS\", \"SH\", np.nan, np.nan], [\"SH\", np.nan, \"TS\", \"SH\", np.nan, np.nan]])\n",
    "arr = pd.DataFrame(arr)\n",
    "ocurrences = np.count_nonzero(arr == \"SH\")\n",
    "ocurrences"
   ]
  },
  {
   "cell_type": "code",
   "execution_count": null,
   "metadata": {},
   "outputs": [],
   "source": [
    "val = np.count_nonzero(data[\"Hour\"] != 0)\n",
    "val"
   ]
  },
  {
   "cell_type": "code",
   "execution_count": null,
   "metadata": {},
   "outputs": [],
   "source": [
    "arr = np.array([np.nan, 1, 2, 3, 4, 5, np.nan, np.nan])\n",
    "df = pd.DataFrame(arr, columns=[\"p\"])\n",
    "df.head(8)"
   ]
  },
  {
   "cell_type": "code",
   "execution_count": null,
   "metadata": {},
   "outputs": [],
   "source": [
    "mean = df[\"p\"].mean()\n",
    "mean"
   ]
  },
  {
   "cell_type": "code",
   "execution_count": null,
   "metadata": {},
   "outputs": [],
   "source": [
    "X = [1,2,3,4,5,6,7,8,9]\n",
    "for i, x in enumerate(X):\n",
    "    print(f\"{i}: {x}\")"
   ]
  },
  {
   "cell_type": "code",
   "execution_count": null,
   "metadata": {},
   "outputs": [],
   "source": [
    "a = np.zeros(4)"
   ]
  },
  {
   "cell_type": "code",
   "execution_count": null,
   "metadata": {},
   "outputs": [],
   "source": [
    "a[0] += 1\n",
    "a"
   ]
  },
  {
   "cell_type": "code",
   "execution_count": null,
   "metadata": {},
   "outputs": [],
   "source": [
    "b = a / 5\n",
    "b"
   ]
  },
  {
   "cell_type": "code",
   "execution_count": null,
   "metadata": {},
   "outputs": [],
   "source": [
    "dz = np.array([14, 10, 10, 11, 13, 14, 16, 13,  9, 13, 15, 15,])\n",
    "ra = np.array([8, 4, 5, 4, 4, 4, 8, 5, 3, 4, 8, 6,])\n",
    "sh = np.array([2, 2, 1, 1, 2, 2, 2, 1, 1, 1, 2, 2,])\n",
    "ts = np.array([0, 0, 0, 1, 3, 3, 6, 4, 2, 2, 1, 0,])\n",
    "months = [\n",
    "    \"Enero\",\n",
    "    \"Febrero\",\n",
    "    \"Marzo\",\n",
    "    \"Abril\",\n",
    "    \"Mayo\",\n",
    "    \"Junio\",\n",
    "    \"Julio\",\n",
    "    \"Agosto\",\n",
    "    \"Setiembre\",\n",
    "    \"Octubre\",\n",
    "    \"Noviembre\",\n",
    "    \"Diciembre\",\n",
    "]\n",
    "step = [m[:3].upper() for m in months]\n",
    "means = []\n",
    "\n",
    "for arr, kind in zip([dz, ra, sh, ts], [\"DZ\", \"RA\", \"SHRA\", \"TS ó TSRA\"]):\n",
    "    for i in range(12):\n",
    "        l = [step[i], arr[i], kind]\n",
    "        means.append(l)\n",
    "\n",
    "means"
   ]
  },
  {
   "cell_type": "code",
   "execution_count": null,
   "metadata": {},
   "outputs": [],
   "source": [
    "df = pd.DataFrame(means, columns=[\"step\", \"mean\", \"Tipo de Precipitación\"])\n",
    "df.head(12)"
   ]
  },
  {
   "cell_type": "code",
   "execution_count": null,
   "metadata": {},
   "outputs": [],
   "source": [
    "sns.set()\n",
    "sns.set(rc={'figure.figsize':(20,15)})\n",
    "#fig, ax = plt.subplots(figsize=(10, 6))\n",
    "sns.catplot(x=\"step\", y=\"mean\", hue=\"Tipo de Precipitación\", data=df, kind=\"bar\", height=6, aspect=10/6, legend_out=False, palette=\"rainbow\")\n",
    "plt.xlabel(\"\")\n",
    "plt.ylabel(\"Número de ocurrencias\", fontsize=16)\n",
    "plt.legend(framealpha=0.6)\n",
    "#fig.subplots_adjust(\n",
    "#        bottom=0.05, top=0.95, left=0.1, right=0.95\n",
    "#    )\n",
    "plt.savefig(\"trash/all_weather_barplot.png\", format=\"png\", dpi=600, bbox_inches='tight')"
   ]
  },
  {
   "cell_type": "code",
   "execution_count": null,
   "metadata": {},
   "outputs": [],
   "source": [
    "sns.set_theme(style=\"ticks\")\n",
    "exercise = sns.load_dataset(\"exercise\")\n",
    "g = sns.catplot(x=\"time\", y=\"pulse\", hue=\"kind\", data=exercise, kind=\"bar\")"
   ]
  },
  {
   "cell_type": "code",
   "execution_count": null,
   "metadata": {},
   "outputs": [],
   "source": [
    "exercise.head(20)"
   ]
  },
  {
   "cell_type": "code",
   "execution_count": null,
   "metadata": {},
   "outputs": [],
   "source": [
    "def float_range(start, stop, step):\n",
    "    while start < stop:\n",
    "        yield start\n",
    "        start += step\n",
    "        start = str(\"{:.2f}\".format(start))\n",
    "        start = float(start)\n",
    "\n",
    "print(list(float_range(29.90, 30.07, 0.02)))"
   ]
  },
  {
   "cell_type": "code",
   "execution_count": null,
   "metadata": {},
   "outputs": [],
   "source": [
    "import pandas as pd"
   ]
  }
 ],
 "metadata": {
  "kernelspec": {
   "display_name": "climatologias-aeropuertos-vWqhKqaj",
   "language": "python",
   "name": "python3"
  },
  "language_info": {
   "codemirror_mode": {
    "name": "ipython",
    "version": 3
   },
   "file_extension": ".py",
   "mimetype": "text/x-python",
   "name": "python",
   "nbconvert_exporter": "python",
   "pygments_lexer": "ipython3",
   "version": "3.9.17"
  }
 },
 "nbformat": 4,
 "nbformat_minor": 4
}
